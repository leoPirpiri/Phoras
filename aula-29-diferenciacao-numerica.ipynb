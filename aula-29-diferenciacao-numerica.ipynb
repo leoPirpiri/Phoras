{
 "cells": [
  {
   "cell_type": "code",
   "execution_count": 1,
   "metadata": {},
   "outputs": [],
   "source": [
    "%matplotlib inline"
   ]
  },
  {
   "cell_type": "markdown",
   "metadata": {},
   "source": [
    "## Diferenciação numérica"
   ]
  },
  {
   "cell_type": "code",
   "execution_count": 2,
   "metadata": {},
   "outputs": [],
   "source": [
    "import numpy as np \n",
    "import sympy as sy\n",
    "import matplotlib.pyplot as plt"
   ]
  },
  {
   "cell_type": "markdown",
   "metadata": {},
   "source": [
    "### Motivação\n",
    "\n",
    "Gerando curvas de deslocamento, velocidade e aceleração para uma partícula."
   ]
  },
  {
   "cell_type": "code",
   "execution_count": 2,
   "metadata": {},
   "outputs": [],
   "source": [
    "# eixo temporal\n",
    "x = np.linspace(0,1,30,endpoint=True)\n",
    "\n",
    "# lei de movimento\n",
    "y = 0.93*np.cos(2.5*(x-1))*np.sin(6*x*x)\n",
    "\n",
    "# velocidade e aceleração (funções analíticas)\n",
    "# derivação simbólica\n",
    "t = sy.Symbol('t')\n",
    "st = 0.93*sy.cos(2.5*(t-1))*sy.sin(6*t*t)\n",
    "dt = sy.diff(st,t) # v(t)\n",
    "dt2 = sy.diff(dt,t) # a(t)\n",
    "\n",
    "# converte para numérico\n",
    "dy = np.asarray([dt.subs(t,xn) for xn in x])\n",
    "dy2 = np.asarray([dt2.subs(t,xn) for xn in x])\n",
    "\n",
    "# função para plotagem\n",
    "def plotting(x,y,c,lab):\n",
    "    plt.plot(x,y,c,label=lab)\n",
    "    plt.grid()\n",
    "    plt.xlabel('$t$')\n",
    "    plt.tick_params(\n",
    "        axis='both',        \n",
    "        which='both',      \n",
    "        bottom=False,      \n",
    "        left=False,         \n",
    "        labelbottom=False, \n",
    "        labelleft=False)\n",
    "    plt.legend()\n",
    "    ax = plt.gca()\n",
    "    ax.set_facecolor('#F9F9F9')"
   ]
  },
  {
   "cell_type": "code",
   "execution_count": 4,
   "metadata": {},
   "outputs": [
    {
     "data": {
      "image/png": "[encoded data removed]",
      "text/plain": [
       "<matplotlib.figure.Figure at 0x107c08748>"
      ]
     },
     "metadata": {},
     "output_type": "display_data"
    }
   ],
   "source": [
    "# curva: deslocamento\n",
    "plotting(x,y,'or','$x(t)$')"
   ]
  },
  {
   "cell_type": "code",
   "execution_count": 5,
   "metadata": {},
   "outputs": [
    {
     "data": {
      "image/png": "[encoded data removed]",
      "text/plain": [
       "<matplotlib.figure.Figure at 0x107f6a2b0>"
      ]
     },
     "metadata": {},
     "output_type": "display_data"
    }
   ],
   "source": [
    "# curva: velocidade\n",
    "plotting(x,dy,'og','$v(t)$')"
   ]
  },
  {
   "cell_type": "code",
   "execution_count": 6,
   "metadata": {},
   "outputs": [
    {
     "data": {
      "image/png": "[encoded data removed]",
      "text/plain": [
       "<matplotlib.figure.Figure at 0x107f98048>"
      ]
     },
     "metadata": {},
     "output_type": "display_data"
    }
   ],
   "source": [
    "# curva: aceleração\n",
    "plotting(x,dy2,'ob','$a(t)$')"
   ]
  },
  {
   "cell_type": "markdown",
   "metadata": {},
   "source": [
    "# Derivada numérica progressiva e regressiva (primeira ordem)"
   ]
  },
  {
   "cell_type": "code",
   "execution_count": 77,
   "metadata": {},
   "outputs": [
    {
     "name": "stdout",
     "output_type": "stream",
     "text": [
      "h=0.000\n",
      "f'e(2.3) = -0.66627602\n",
      "f'p(2.3) = -0.66631331\n",
      "f'r(2.3) = -0.66623873\n",
      "f'c(2.3) = -0.66627602\n"
     ]
    },
    {
     "data": {
      "image/png": "[encoded data removed]",
      "text/plain": [
       "<Figure size 432x288 with 1 Axes>"
      ]
     },
     "metadata": {},
     "output_type": "display_data"
    }
   ],
   "source": [
    "x0 = 2.3\n",
    "h = 0.0001\n",
    "n = 10\n",
    "x = np.linspace(x0-2*h,x0+2*h,n)\n",
    "f = np.sin(x)\n",
    "df = np.cos(x)\n",
    "dfe = np.cos(x0)\n",
    "dfp = (np.sin(x0+h) - np.sin(x0))/h\n",
    "dfr = (np.sin(x0) - np.sin(x0-h))/h\n",
    "dfc = (np.sin(x0+h) - np.sin(x0-h))/(2*h)\n",
    "\n",
    "plt.plot(x,df,'ok') # derivada exata\n",
    "plt.plot(x0,dfe,'o') # derivada exata no ponto x0\n",
    "plt.plot(x0,dfp,'or') # derivada numérica PROGRESSIVA no ponto x0 \n",
    "plt.plot(x0,dfr,'ob') # derivada numérica REGRESSIVA no ponto x0 \n",
    "plt.plot(x0,dfc,'og') # derivada numérica REGRESSIVA no ponto x0 \n",
    "plt.grid(True)\n",
    "\n",
    "print('h={0:.3f}'.format(h))\n",
    "print('f\\'e({0:g}) = {1:.8f}'.format(x0,dfe))\n",
    "print('f\\'p({0:g}) = {1:.8f}'.format(x0,dfp))\n",
    "print('f\\'r({0:g}) = {1:.8f}'.format(x0,dfr))\n",
    "print('f\\'c({0:g}) = {1:.8f}'.format(x0,dfc))"
   ]
  },
  {
   "cell_type": "markdown",
   "metadata": {},
   "source": [
    "## Comparando resultados\n",
    "\n",
    "**Exemplo:** considere a função $f(x) = \\frac{2^x}{x}$. Calcule a segunda derivada em $x=2$ numericamente com a fórmula de diferença centrada a 3 pontos usando:\n",
    "\n",
    "- Os pontos $x = 1.8$, $x = 2$ e $x = 2.2$.\n",
    "- Os pontos $x = 1.9$, $x = 2$ e $x = 2.1$.\n",
    "\n",
    "Compare os resultados com a derivada analítica."
   ]
  },
  {
   "cell_type": "markdown",
   "metadata": {},
   "source": [
    "### Solução\n",
    "\n",
    "Vamos primeiro computar a seguda derivada analítica de $f(x)$ por computação simbólica."
   ]
  },
  {
   "cell_type": "code",
   "execution_count": 7,
   "metadata": {},
   "outputs": [
    {
     "data": {
      "image/png": "[encoded data removed]",
      "text/latex": [
       "$$\\frac{2^{x}}{x} \\left(\\log^{2}{\\left (2 \\right )} - \\frac{2}{x} \\log{\\left (2 \\right )} + \\frac{2}{x^{2}}\\right)$$"
      ],
      "text/plain": [
       " x ⎛   2      2⋅log(2)   2 ⎞\n",
       "2 ⋅⎜log (2) - ──────── + ──⎟\n",
       "   ⎜             x        2⎟\n",
       "   ⎝                     x ⎠\n",
       "────────────────────────────\n",
       "             x              "
      ]
     },
     "execution_count": 7,
     "metadata": {},
     "output_type": "execute_result"
    }
   ],
   "source": [
    "from sympy.abc import x \n",
    "sy.init_printing()\n",
    "\n",
    "# função\n",
    "f = 2**x/x\n",
    "\n",
    "# derivada segunda\n",
    "d2fdx2 = sy.diff(f,x,2)\n",
    "d2fdx2"
   ]
  },
  {
   "cell_type": "code",
   "execution_count": 8,
   "metadata": {},
   "outputs": [
    {
     "data": {
      "image/png": "[encoded data removed]",
      "text/latex": [
       "$$- 2 \\log{\\left (2 \\right )} + 2 \\log^{2}{\\left (2 \\right )} + 1$$"
      ],
      "text/plain": [
       "                 2       \n",
       "-2⋅log(2) + 2⋅log (2) + 1"
      ]
     },
     "execution_count": 8,
     "metadata": {},
     "output_type": "execute_result"
    }
   ],
   "source": [
    "# derivada em x = 2 \n",
    "d2fdx2_p2 = d2fdx2.subs(x,2)\n",
    "d2fdx2_p2"
   ]
  },
  {
   "cell_type": "code",
   "execution_count": 9,
   "metadata": {},
   "outputs": [
    {
     "data": {
      "image/png": "[encoded data removed]",
      "text/latex": [
       "$$0.5746116667165122$$"
      ],
      "text/plain": [
       "0.5746116667165122"
      ]
     },
     "execution_count": 9,
     "metadata": {},
     "output_type": "execute_result"
    }
   ],
   "source": [
    "# valor numérico\n",
    "d2fdx2_p2_num = float(d2fdx2_p2)\n",
    "d2fdx2_p2_num "
   ]
  },
  {
   "cell_type": "markdown",
   "metadata": {},
   "source": [
    "Agora, vamos montar uma função para a fórmula da segunda derivada a 3 pontos (supondo que os pontos dados sejam igualmente espaçados:"
   ]
  },
  {
   "cell_type": "code",
   "execution_count": 17,
   "metadata": {
    "collapsed": true
   },
   "outputs": [],
   "source": [
    "# função \n",
    "def der_num_2(x1,x2,x3):\n",
    "    d2fdx2_num = lambda x1,x2,x3: (f.subs(x,x1) - 2*f.subs(x,x2) + f.subs(x,x3))/(x2 - x1)**2\n",
    "    return float(d2fdx2_num(x1,x2,x3))"
   ]
  },
  {
   "cell_type": "markdown",
   "metadata": {},
   "source": [
    "Aplicamos a nossa aproximação numérica ao primeiro conjunto de pontos para estimar a derivada numérica no ponto $x=2$ por diferença centrada."
   ]
  },
  {
   "cell_type": "code",
   "execution_count": 19,
   "metadata": {},
   "outputs": [
    {
     "data": {
      "image/png": "[encoded data removed]",
      "text/latex": [
       "$$0.5774817738923302$$"
      ],
      "text/plain": [
       "0.5774817738923302"
      ]
     },
     "execution_count": 19,
     "metadata": {},
     "output_type": "execute_result"
    }
   ],
   "source": [
    "df2_1 = der_num_2(1.8,2.0,2.2)\n",
    "df2_1"
   ]
  },
  {
   "cell_type": "markdown",
   "metadata": {},
   "source": [
    "Em seguida, aplicamos a nossa aproximação numérica ao segundo conjunto de pontos:"
   ]
  },
  {
   "cell_type": "code",
   "execution_count": 20,
   "metadata": {},
   "outputs": [
    {
     "data": {
      "image/png": "[encoded data removed]",
      "text/latex": [
       "$$0.5753244156644123$$"
      ],
      "text/plain": [
       "0.5753244156644123"
      ]
     },
     "execution_count": 20,
     "metadata": {},
     "output_type": "execute_result"
    }
   ],
   "source": [
    "df2_2 = der_num_2(1.9,2.0,2.1)\n",
    "df2_2"
   ]
  },
  {
   "cell_type": "markdown",
   "metadata": {},
   "source": [
    "Esperamos que o segundo conjunto de pontos nos dê uma estimativa mais próxima para a derivada analítica já que os pontos estão mais próximos um do outro. Para verificar isto, vamos medir o erro relativo percentual entre as derivadas numéricas e a derivada analítica."
   ]
  },
  {
   "cell_type": "code",
   "execution_count": 25,
   "metadata": {},
   "outputs": [
    {
     "name": "stdout",
     "output_type": "stream",
     "text": [
      "erro relativo percentual 1: 0.49948640831095764%\n",
      "erro relativo percentual 2: 0.12404011077131777%\n"
     ]
    }
   ],
   "source": [
    "# erro relativo percentual \n",
    "erp = lambda v,va: abs(v-va)/abs(v)*100\n",
    "\n",
    "# erro para o grupo 1\n",
    "print('erro relativo percentual 1: ' + str(erp(d2fdx2_p2_num,df2_1)) + '%' )\n",
    "\n",
    "# erro para o grupo 2\n",
    "print('erro relativo percentual 2: ' + str(erp(d2fdx2_p2_num,df2_2)) + '%' )"
   ]
  }
 ],
 "metadata": {
  "kernelspec": {
   "display_name": "Python 3",
   "language": "python",
   "name": "python3"
  },
  "language_info": {
   "codemirror_mode": {
    "name": "ipython",
    "version": 3
   },
   "file_extension": ".py",
   "mimetype": "text/x-python",
   "name": "python",
   "nbconvert_exporter": "python",
   "pygments_lexer": "ipython3",
   "version": "3.6.4"
  }
 },
 "nbformat": 4,
 "nbformat_minor": 2
}
